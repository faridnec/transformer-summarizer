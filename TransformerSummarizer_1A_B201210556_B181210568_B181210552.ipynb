{
 "cells": [
  {
   "cell_type": "markdown",
   "id": "05014ac7",
   "metadata": {
    "colab_type": "text",
    "id": "7yuytuIllsv1"
   },
   "source": [
    "\n",
    "# Transformer Summarizer (Transformer Özetleyici)\n",
    "\n",
    "Grup üyeler:\n",
    "Yapay Zeka 1. Öğretim A grubu\n",
    "- B201210556 - Muhammad Najmuddin Farid\n",
    "- B181210568 - Zidan Omar Hamid\n",
    "- B181210552 - Muhammad Fauzan Asyraf Syahputra\n",
    "\n",
    "Bu Jupyter Notebook üzerinde insanlar arasındaki konuşmaları özetlemek için basit bir transformer kullanılmaktadır\n",
    "\n",
    "- `Algoritma adi` : Transformer Özetleyici (Transformer Summarizer)\n",
    "- `Dataset adı` : SAMSum Corpus: A Human-annotated Dialogue Dataset for Abstractive Summarization [SAMSum Corpus](https://paperswithcode.com/paper/samsum-corpus-a-human-annotated-dialogue-1)\n",
    "- `Örnek adresi` : [Dataset](https://drive.google.com/file/d/1-NgPkTbkjg_W0xi7Jhvwzf-GxWZhZhkR/view?usp=sharing)\n",
    "- `Github Link` : https://github.com/faridnec/transformer-summarizer"
   ]
  },
  {
   "cell_type": "markdown",
   "id": "ee0da363",
   "metadata": {
    "colab_type": "text",
    "id": "H4NlfEQhRWPy"
   },
   "source": [
    "<a name='0'></a>\n",
    "## Giriş\n",
    "\n",
    "Otomatik özetleme genellikle belirli bir veri kümesini bilgisayarla özetleyerek, orijinal veriden en önemli ve ilgili bilgileri temsil eden yeni bir veri kümesi üretme süreci olarak tanımlanır. Metin verileri için, bu özellikle özetin en önemli cümleleri, metin parçacıkları veya kelimeleri içermesi anlamına gelir (Torres-Moreno, 2014). Bir metin özeti mümkünse tutarlı, özlü ve akıcı olmalıdır.\n",
    "    \n",
    "Tekrarlayan sinir ağları (Recurrent neural networks), özellikle uzun kısa süreli bellek (long short-term memory) ve kapılı tekrarlayan sinir ağları (gated recurrent neural network), dil modelleme ve makine çevirisi gibi dizi modelleme ve transdüksiyon problemlerinde en gelişmiş yaklaşımlar olarak sağlam bir şekilde oluşturulmuştur. Günümüze kadar, yinelenen dil modellerinin ve kodlayıcı-kod çözücü mimarilerinin sınırlarını zorlamaya yönelik çok sayıda çaba devam etmektedir.\n",
    "Bu çalışmada, Doğal Dil İşleme (NLP) görevlerinde, özellikle metin özetlemede, önemli ölçüde daha fazla paralelleştirmeye izin veren ve yeni bir teknoloji düzeyine ulaşabilen bir model mimarisi olan Transformer'ı sunulmaktadır.\n",
    "\n",
    "## Tanım\n",
    "\n",
    "Transforer, tekrarlayan veya evrişimsel katmanlara dayanmadan sıralı verileri işleyebilen bir sinir ağı türüdür. Bunun yerine, her adımda girdinin ve çıktının en ilgili kısımlarına odaklanmalarını sağlayan attention adı verilen bir mekanizma kullanırlar. Attention aynı zamanda dönüştürücülerin doğal dili anlamak için gerekli olan uzun menzilli bağımlılıkları ve bağlamsal bilgileri yakalamasını sağlar. Dönüştürücüler iki ana bileşenden oluşur: bir kodlayıcı ve bir kod çözücü. Kodlayıcı girdi metnini alır ve onu gömme adı verilen bir dizi gizli temsile dönüştürür. Kod çözücü katıştırmaları alır ve her seferinde bir belirteç olmak üzere çıktı metnini oluşturur.\n",
    "\n",
    "Metni dönüştürücülerle özetlemek için eğitim, haber makaleleri ve manşetler veya bilimsel makaleler ve özetler gibi geniş bir metin-özet çiftleri topluluğunun kullanılmasını içerir. Eğitim hedefi, çapraz entropi gibi bir kayıp fonksiyonu kullanarak oluşturulan özet ile referans özeti arasındaki eşitsizliği en aza indirmeyi amaçlamaktadır. Çıkarım sırasında, özetlenecek metin kodlayıcıya beslenir ve ardından özeti oluşturmak için kod çözücü kullanılır. Bu, örnekleme yoluyla veya her adımda en olası jetonun seçilmesiyle başarılabilir. Ek olarak, çeşitli potansiyel özetleri takip eden ve puanlama fonksiyonuna göre en iyisini seçen, ışın arama(beam search) adı verilen bir teknik kullanılabilir.\n",
    "\n",
    "Bu proje üzerinde insanlar arasındaki konuşmaları özetlemek için basit bir transformatör kullanılmaktadır."
   ]
  },
  {
   "cell_type": "code",
   "execution_count": 2,
   "id": "7b49d856",
   "metadata": {
    "colab": {
     "base_uri": "https://localhost:8080/",
     "height": 34
    },
    "colab_type": "code",
    "deletable": false,
    "editable": false,
    "id": "CChWzW-rEHVb",
    "outputId": "a0b3e98b-7fc6-492d-c8ad-3a263b54f670",
    "tags": [
     "graded"
    ]
   },
   "outputs": [],
   "source": [
    "import os\n",
    "os.environ['TF_CPP_MIN_LOG_LEVEL'] = '3'\n",
    "\n",
    "import numpy as np\n",
    "import pandas as pd\n",
    "import tensorflow as tf\n",
    "import matplotlib.pyplot as plt\n",
    "import time\n",
    "import utils\n",
    "from transformer.utils import *\n",
    "\n",
    "import textwrap\n",
    "wrapper = textwrap.TextWrapper(width=70)\n",
    "\n",
    "tf.keras.utils.set_random_seed(10)"
   ]
  },
  {
   "cell_type": "markdown",
   "id": "d56fc570",
   "metadata": {
    "colab_type": "text",
    "id": "kEL2rvaHRWP4"
   },
   "source": [
    "<a name='1'></a>\n",
    "<!-- ## 1 - Import the Dataset -->\n",
    "\n",
    "## 1 - Veri Setinin İçe Aktarılması"
   ]
  },
  {
   "cell_type": "code",
   "execution_count": 3,
   "id": "074bcce3",
   "metadata": {
    "deletable": false,
    "editable": false,
    "tags": [
     "graded"
    ]
   },
   "outputs": [
    {
     "name": "stdout",
     "output_type": "stream",
     "text": [
      "Dialogue:\n",
      "Lucas: Hey! How was your day?\n",
      "Demi: Hey there! \n",
      "Demi: It was pretty fine, actually, thank you!\n",
      "Demi: I just got promoted! :D\n",
      "Lucas: Whoa! Great news!\n",
      "Lucas: Congratulations!\n",
      "Lucas: Such a success has to be celebrated.\n",
      "Demi: I agree! :D\n",
      "Demi: Tonight at Death & Co.?\n",
      "Lucas: Sure!\n",
      "Lucas: See you there at 10pm?\n",
      "Demi: Yeah! See you there! :D\n",
      "\n",
      "Summary:\n",
      "Demi got promoted. She will celebrate that with Lucas at Death & Co at 10 pm.\n"
     ]
    }
   ],
   "source": [
    "data_dir = \"data/corpus\"\n",
    "\n",
    "train_data, test_data = utils.get_train_test_data(data_dir)\n",
    "\n",
    "example_summary, example_dialogue = train_data.iloc[10]\n",
    "print(f\"Dialogue:\\n{example_dialogue}\")\n",
    "print(f\"\\nSummary:\\n{example_summary}\")"
   ]
  },
  {
   "cell_type": "markdown",
   "id": "04210324",
   "metadata": {},
   "source": [
    "<a name='2'></a>\n",
    "## 2 - Veri Ön İşleme\n",
    "\n",
    "Veri ön işleme sırasında girdi verilerini işlemek üzere tasarlanmıştır. Bu aşamada iki ana girdi alıınmaktadır: \"summary\" (özet) ve \"dialogue\" (diyalog). Öncelikle, metin verilerini küçük harflere dönüştürerek bir standart sağlar. Ardından, yeni satırları ve çift boşlukları kaldırarak metnin düzenini iyileştirir. Son olarak, her metin başına bir \"[SOS]\" (Başlangıç) ve her metin sonuna bir \"[EOS]\" (Bitiş) işareti ekleyerek, metinlerin başlangıç ve sonunu belirtir. Bu işlemler, metinlerin işlenmesi ve standartlaştırılması için önemli adımları temsil eder, böylece daha tutarlı ve işlenebilir veri elde edilir. Bu ön işleme adımları, metin verilerinin daha iyi analiz edilmesini ve modellemesini sağlar, böylelikle nihai çıktıların kalitesini artırır."
   ]
  },
  {
   "cell_type": "code",
   "execution_count": 4,
   "id": "9ba397a0",
   "metadata": {
    "deletable": false,
    "editable": false,
    "tags": [
     "graded"
    ]
   },
   "outputs": [],
   "source": [
    "document, summary = utils.preprocess(train_data)\n",
    "document_test, summary_test = utils.preprocess(test_data)"
   ]
  },
  {
   "cell_type": "markdown",
   "id": "0fe70280",
   "metadata": {},
   "source": [
    "Tensorflow kütüphanesi ile standart ön işleme; Belgelerdeki ve özetlerdeki verileri birleştirerek ve `.fit_on_texts()` kullanarak kelime dağarcığını oluşturulmaktadır:\n",
    "\n",
    "<!-- standard preprocessing with the tensorflow library. Create the vocabulary by combining the data in the documents and the summaries and using `.fit_on_texts()`: -->"
   ]
  },
  {
   "cell_type": "code",
   "execution_count": 5,
   "id": "5dfab3c8",
   "metadata": {
    "deletable": false,
    "editable": false,
    "tags": [
     "graded"
    ]
   },
   "outputs": [
    {
     "name": "stdout",
     "output_type": "stream",
     "text": [
      "Size of vocabulary: 34250\n"
     ]
    }
   ],
   "source": [
    "filters = '!\"#$%&()*+,-./:;<=>?@\\\\^_`{|}~\\t\\n'\n",
    "oov_token = '[UNK]'\n",
    "\n",
    "tokenizer = tf.keras.preprocessing.text.Tokenizer(filters=filters, oov_token=oov_token, lower=False)\n",
    "\n",
    "documents_and_summary = pd.concat([document, summary], ignore_index=True)\n",
    "\n",
    "tokenizer.fit_on_texts(documents_and_summary)\n",
    "\n",
    "inputs = tokenizer.texts_to_sequences(document)\n",
    "targets = tokenizer.texts_to_sequences(summary)\n",
    "\n",
    "vocab_size = len(tokenizer.word_index) + 1\n",
    "\n",
    "print(f'Size of vocabulary: {vocab_size}')"
   ]
  },
  {
   "cell_type": "markdown",
   "id": "7341b3f5",
   "metadata": {},
   "source": [
    "Eğitim verileri için tokenize edilmiş dizilerin doldurulması; Transformer oldukça büyük bir model olduğundan ve bu kadar küçük ortamlarda eğitilmeleri amaçlanmadığından, dizilerin uzunluğu burada sınırlanmaktadır."
   ]
  },
  {
   "cell_type": "code",
   "execution_count": 6,
   "id": "c5846dd5",
   "metadata": {
    "deletable": false,
    "editable": false,
    "tags": [
     "graded"
    ]
   },
   "outputs": [],
   "source": [
    "encoder_maxlen = 150\n",
    "decoder_maxlen = 50\n",
    "\n",
    "inputs = tf.keras.preprocessing.sequence.pad_sequences(inputs, maxlen=encoder_maxlen, padding='post', truncating='post')\n",
    "targets = tf.keras.preprocessing.sequence.pad_sequences(targets, maxlen=decoder_maxlen, padding='post', truncating='post')\n",
    "\n",
    "inputs = tf.cast(inputs, dtype=tf.int32)\n",
    "targets = tf.cast(targets, dtype=tf.int32)\n",
    "\n",
    "BUFFER_SIZE = 10000\n",
    "BATCH_SIZE = 64\n",
    "\n",
    "dataset = tf.data.Dataset.from_tensor_slices((inputs, targets)).shuffle(BUFFER_SIZE).batch(BATCH_SIZE)"
   ]
  },
  {
   "cell_type": "markdown",
   "id": "58b25fb2",
   "metadata": {},
   "source": [
    "<a name='3'></a>\n",
    "## 3 - Konumsal Kodlama (Positional Encoding)\n",
    "\n",
    "Konumsal kodlama, özellikle dizi modellerinde ve özellikle dil modellerinde kullanılan bir tekniktir. Bu teknik, modelin her bir girdi sırasındaki kelimelerin veya öğelerin pozisyonunu temsil etmesini sağlar. Konumsal kodlamalar yerleştirmelerle aynı boyut modeline sahiptir, böylece ikisi toplanabilir. Öğrenilmiş ve sabitlenmiş birçok konumsal kodlama seçeneği vardır.\n",
    "\n",
    "Hazırlanan fonksiyonda, belirli bir pozisyon ve model boyutuna ${d_model}$ dayalı olarak tüm pozisyonel kodlamaları hesaplar. Bu kodlamalar, bir dizi matematiksel hesaplama kullanılarak önceden hesaplanıp modelin eğitimi sırasında girdi olarak sağlanır. Sonuç olarak, her bir pozisyon için bir vektör oluşturulur. Böylece modelin her bir girdi öğesinin konumunu temsil eder.\n",
    "\n",
    "Sıralı görevlerde, verilerin göreli sırası anlamı açısından son derece önemlidir. Bir Transformer ağını multi-head attention kullanarak eğittiğimizde, verileri modele tek seferde besleriz. Bu, eğitim süresini önemli ölçüde azaltırken, verilerin sırası hakkında hiçbir bilgi yoktur. Konumsal kodlamanın faydalı olduğu yer burasıdır."
   ]
  },
  {
   "cell_type": "code",
   "execution_count": 7,
   "id": "0e65672c",
   "metadata": {
    "deletable": false,
    "editable": false,
    "tags": [
     "graded"
    ]
   },
   "outputs": [],
   "source": [
    "def positional_encoding(positions, d_model):\n",
    "    \"\"\"\n",
    "    Precomputes a matrix with all the positional encodings\n",
    "    \"\"\"\n",
    "    \n",
    "    position = np.arange(positions)[:, np.newaxis]\n",
    "    k = np.arange(d_model)[np.newaxis, :]\n",
    "    i = k // 2\n",
    "\n",
    "    angle_rates = 1 / np.power(10000, (2 * i) / np.float32(d_model))\n",
    "    angle_rads = position * angle_rates\n",
    "\n",
    "    angle_rads[:, 0::2] = np.sin(angle_rads[:, 0::2])\n",
    "  \n",
    "    angle_rads[:, 1::2] = np.cos(angle_rads[:, 1::2])\n",
    "    \n",
    "    pos_encoding = angle_rads[np.newaxis, ...]\n",
    "    \n",
    "    return tf.cast(pos_encoding, dtype=tf.float32)"
   ]
  },
  {
   "cell_type": "markdown",
   "id": "9e1f1063",
   "metadata": {},
   "source": [
    "<a name='4'></a>\n",
    "## 4 - Maskeleme\n",
    "\n",
    "Transformer ağı oluştururken yararlı olan iki tür maske vardır: *padding maskesi* ve *look-ahead maskesi*. Her ikisi de softmax hesaplamasının giriş cümlenizdeki kelimelere uygun ağırlıkları vermesine yardımcı olur. \n",
    "\n",
    "Dolgu maskesi (Padding mask), özellikle dizi modelleme ve dil işleme gibi görevlerde, girdi dizilerindeki dolgu değerlerini işlemek için kullanılır. Dolgu değerleri, genellikle dizinin sonunda bulunan ve gerçek veri ile ilgili olmayan ekstra değerlerdir. Dolgu maskesi, modelin dikkat mekanizması ve diğer işlemlerinde bu dolgu değerlerini göz ardı etmesine yardımcı olur, böylece modelin doğru sonuçlar üretmesine olanak tanır.\n",
    "\n",
    "Bakış maskesi (Look ahead mask), çeviri ve benzeri sıralı çıktı problemlerinde kullanılır. Modelin her bir çıktıyı üretirken, daha sonraki çıktıları görmemesini sağlar. Bu, modelin gelecekteki bilgileri kullanmadan, sırayla her bir çıktıyı doğru şekilde tahmin etmesine olanak tanır. Bakış maskesi, modelin zaman boyunca ilerlerken yanlışlıkla gelecekteki bilgilere erişimini önler.\n",
    "\n",
    "Bu maskeler, modelin daha etkili bir şekilde eğitilmesine ve daha doğru sonuçlar üretmesine yardımcı olur. Dolgu maskesi dolgu değerlerini, bakış maskesi ise gelecekteki bilgileri işlemeden modelin daha doğru sonuçlar üretmesine olanak tanır."
   ]
  },
  {
   "cell_type": "code",
   "execution_count": 8,
   "id": "cfc7471c",
   "metadata": {
    "deletable": false,
    "editable": false,
    "tags": [
     "graded"
    ]
   },
   "outputs": [],
   "source": [
    "def create_padding_mask(decoder_token_ids):\n",
    "    \"\"\"\n",
    "    Creates a matrix mask for the padding cells\n",
    "    \"\"\"    \n",
    "    seq = 1 - tf.cast(tf.math.equal(decoder_token_ids, 0), tf.float32)\n",
    "  \n",
    "    return seq[:, tf.newaxis, :] \n",
    "\n",
    "\n",
    "def create_look_ahead_mask(sequence_length):\n",
    "    \"\"\"\n",
    "    Returns a lower triangular matrix filled with ones\n",
    "    \"\"\"\n",
    "    mask = tf.linalg.band_part(tf.ones((1, sequence_length, sequence_length)), -1, 0)\n",
    "    \n",
    "    return mask "
   ]
  },
  {
   "cell_type": "markdown",
   "id": "89110af6",
   "metadata": {},
   "source": [
    "<a name='5'></a>\n",
    "## 5 - Self Attention\n",
    "\n",
    "<img src=\"images/self-attention.png\" alt=\"Self Attention\" width=\"600\"/>\n",
    "<center color='purple'><b>Self Attention</b></center>\n",
    "\n",
    "\n",
    "Geleneksel evrişimli ağlarla eşleştirilmiş öz dikkat kullanımı, eğitimi hızlandıran paralelleştirmeye izin verir. Bir sorgu, anahtar, değer ve bir maskeyi girdi olarak alan **ölçeklendirilmiş nokta çarpımı dikkati** (**scaled dot product attention**), dizideki kelimelerin zengin, dikkat tabanlı vektör temsillerini döndürür. Transformer'da kullanılan standart dikkat, ölçekli nokta çarpım dikkatidir (Vaswani ve diğerleri, 2017). Giriş, ${d_k}$ boyutundaki sorgulardan ve anahtarlardan ve ${d_v}$ boyutunun değerlerinden oluşur. Sorgunun tüm anahtarlarla nokta çarpımları hesaplanır, ${√min}$ ile ölçeklenir ve değerler üzerindeki ağırlıkları elde etmek için softmax fonksiyonu uygulanır. Uygulamada, bir dizi sorgu üzerindeki dikkat işlevi eş zamanlı olarak hesaplanır ve bir $Q$ matrisinde birlikte paketlenir. Anahtarların ve değerlerin aynı zamanda $K$ ve $V$ matrislerinde birlikte paketlendiğini varsayarsak, çıktı matrisi şu şekilde tanımlanır:\n",
    "\n",
    "$$\n",
    "\\text { Attention }(Q, K, V)=\\operatorname{softmax}\\left(\\frac{Q K^{T}}{\\sqrt{d_{k}}}+{M}\\right) V\n",
    "$$\n",
    "\n",
    "* $Q$ sorguların matrisidir (Query)\n",
    "* $K$ anahtarların matrisidir (Key)\n",
    "* $V$ değerlerin matrisidir (Value)\n",
    "* $M$ Maske\n",
    "* ${d_k}$ anahtarların boyutudur ve softmax'in patlamaması için her şeyi ölçeklendirmek için kullanılır"
   ]
  },
  {
   "cell_type": "code",
   "execution_count": 9,
   "id": "3f434073",
   "metadata": {
    "deletable": false,
    "tags": [
     "graded"
    ]
   },
   "outputs": [],
   "source": [
    "def scaled_dot_product_attention(q, k, v, mask):\n",
    "    \"\"\"\n",
    "    Calculate the attention weights.\n",
    "    \"\"\"\n",
    "\n",
    "    matmul_qk = tf.matmul(q, k, transpose_b=True)\n",
    "\n",
    "    dk = tf.cast(tf.shape(k)[-1], tf.float32)\n",
    "    scaled_attention_logits = matmul_qk / tf.math.sqrt(dk)\n",
    "\n",
    "    if mask is not None: \n",
    "        scaled_attention_logits += (1. - mask) * - 1e9\n",
    "\n",
    "    attention_weights = tf.keras.activations.softmax(scaled_attention_logits)\n",
    "\n",
    "    output = tf.matmul(attention_weights, v)\n",
    "\n",
    "    return output, attention_weights"
   ]
  },
  {
   "cell_type": "code",
   "execution_count": 10,
   "id": "5ed8f5af",
   "metadata": {
    "deletable": false,
    "editable": false
   },
   "outputs": [
    {
     "name": "stdout",
     "output_type": "stream",
     "text": [
      "Output:\n",
      " [[[1.   0.62]\n",
      "  [0.62 0.62]\n",
      "  [0.74 0.31]]]\n",
      "\n",
      "Attention weigths:\n",
      " [[[0.   0.38 0.   0.23 0.38]\n",
      "  [0.38 0.   0.   0.23 0.38]\n",
      "  [0.26 0.43 0.   0.16 0.16]]]\n"
     ]
    }
   ],
   "source": [
    "# Test\n",
    "q = np.array([[1, 1, 0, 1], [0, 1, 1, 1], [1, 0, 1, 1]]).astype(np.float32)\n",
    "k = np.array([[1, 1, 0, 1], [1, 0, 1, 1 ], [1, 1, 1, 0], [0, 0, 0, 1], [0, 1, 0, 1]]).astype(np.float32)\n",
    "v = np.array([[0, 0], [1, 0], [1, 0], [1, 1], [1, 1]]).astype(np.float32)\n",
    "mask = np.array([[[0, 1, 0, 1, 1], [1, 0, 0, 1, 1], [1, 1, 0, 1, 1]]])\n",
    "\n",
    "ou, atw = scaled_dot_product_attention(q, k, v, mask)\n",
    "ou = np.around(ou, decimals=2)\n",
    "atw = np.around(atw, decimals=2)\n",
    "\n",
    "print(f\"Output:\\n {ou}\")\n",
    "print(f\"\\nAttention weigths:\\n {atw}\")"
   ]
  },
  {
   "cell_type": "markdown",
   "id": "00b9c92a",
   "metadata": {},
   "source": [
    "<a name='6'></a>\n",
    "## 6 - Kodlayıcı\n",
    "\n",
    "<img src=\"images/encoder_layer.png\" alt=\"Encoder\" width=\"400\"/>\n",
    "<center color='purple'><b>Transformer kodlayıcı katmanı</b></center>\n",
    "\n",
    "Transformer Kodlayıcı katmanı, eğitim hızını artırmak için öz dikkat ve konvolüsyonel sinir ağı işleme tarzını eşleştirir ve K ve V matrislerini Kod Çözücüye aktarır.\n",
    "\n",
    "`Multi-head Attention` Transformer'da ${d_model}$ boyutlu anahtarlar, değerler ve sorgular ile tek dikkat fonksiyonunu gerçekleştirmek yerine sorgular, anahtarlar ve değerler ${h}$ kez farklı öğrenilmiş doğrusal projeksiyonlarla sırasıyla ${d_k}$, ${d_k}$ ve ${d_v}$ boyutlarına doğrusal olarak yansıtılır. Sorguların, anahtarların ve değerlerin bu öngörülen sürümlerinin her birine paralel olarak dikkat uygulanarak ${d_v}$ boyutlu çıktı değerleri elde edilir. Bunlar birleştirilip bir kez daha yansıtılarak nihai değerler elde edilir. Bu mekanizmaya çok kafalı dikkat adı verilmektedir.\n",
    "\n",
    "* Farklı özellikleri tespit etmek için öz dikkati birkaç kez hesaplayan `MultiHeadAttention`. \n",
    "* İleri beslemeli sinir ağı, `FullyConnected` işlevine sahip iki Yoğun katman içerir\n",
    "\n",
    "Giriş cümlesi ilk olarak, kodlayıcının belirli bir kelimeyi kodlarken giriş cümlesindeki diğer kelimelere baktığı bir *çok kafalı dikkat katmanından* geçer. Çok kafalı dikkat katmanının çıktıları daha sonra bir *ileri beslemeli sinir ağına* beslenir. Aynı ileri besleme ağı her pozisyona bağımsız olarak uygulanır.\n",
    "   \n",
    "* MultiHeadAttention katmanı için Keras'ta uygulanan [MultiHeadAttention](https://www.tensorflow.org/api_docs/python/tf/keras/layers/MultiHeadAttention) kullanılır.\n",
    "* [Sequential API](https://www.tensorflow.org/api_docs/python/tf/keras/Sequential)"
   ]
  },
  {
   "cell_type": "code",
   "execution_count": 12,
   "id": "c3fd59d0",
   "metadata": {
    "deletable": false,
    "editable": false,
    "tags": [
     "graded"
    ]
   },
   "outputs": [],
   "source": [
    "def FullyConnected(embedding_dim, fully_connected_dim):\n",
    "    \"\"\"\n",
    "    Returns a sequential model consisting of two dense layers.\n",
    "    \"\"\"\n",
    "    return tf.keras.Sequential([\n",
    "        tf.keras.layers.Dense(fully_connected_dim, activation='relu'),\n",
    "        tf.keras.layers.Dense(embedding_dim)\n",
    "    ])"
   ]
  },
  {
   "cell_type": "markdown",
   "id": "99d7003a",
   "metadata": {},
   "source": [
    "<a name='6-1'></a>\n",
    "### 6.1 Kodlayıcı Katmanı\n",
    "\n",
    "Kodlayıcı katmanında, çok kafalı dikkat ve ileri beslemeli sinir ağı birlikte eşleştirilmiştir. Ek olarak, daha hızlı eğitimi kolaylaştırmak için artık bağlantılar ve katman normalizasyonu kullanılır.\n",
    "\n",
    "1. Q, V, K matrislerini ve bir boolean maskesini çok kafalı bir dikkat katmanına alır.\n",
    "2. Orijinal `x` girdinizi ve çok kafalı dikkat katmanının çıktısını eklemek için bir atlama bağlantısı vardır. \n",
    "3. Atlama bağlantısı eklendikten sonra, çıktı ilk normalleştirme katmanından geçer.\n",
    "4. Adım 1-3, ileri beslemeli sinir ağı ve çok kafalı dikkat katmanı yerine bir bırakma katmanı ile tekrarlanır."
   ]
  },
  {
   "cell_type": "code",
   "execution_count": 13,
   "id": "51c1452b",
   "metadata": {
    "deletable": false,
    "editable": false,
    "tags": [
     "graded"
    ]
   },
   "outputs": [],
   "source": [
    "class EncoderLayer(tf.keras.layers.Layer):\n",
    "    \"\"\"\n",
    "    The encoder layer is composed by a multi-head self-attention mechanism,\n",
    "    followed by a simple, positionwise fully connected feed-forward network.\n",
    "    \"\"\"\n",
    "    def __init__(self, embedding_dim, num_heads, fully_connected_dim,\n",
    "                 dropout_rate=0.1, layernorm_eps=1e-6):\n",
    "        \n",
    "        super(EncoderLayer, self).__init__()\n",
    "\n",
    "        self.mha = tf.keras.layers.MultiHeadAttention(\n",
    "            num_heads=num_heads,\n",
    "            key_dim=embedding_dim,\n",
    "            dropout=dropout_rate\n",
    "        )\n",
    "\n",
    "        self.ffn = FullyConnected(\n",
    "            embedding_dim=embedding_dim,\n",
    "            fully_connected_dim=fully_connected_dim\n",
    "        )\n",
    "\n",
    "        self.layernorm1 = tf.keras.layers.LayerNormalization(epsilon=layernorm_eps)\n",
    "        self.layernorm2 = tf.keras.layers.LayerNormalization(epsilon=layernorm_eps)\n",
    "\n",
    "        self.dropout_ffn = tf.keras.layers.Dropout(dropout_rate)\n",
    "    \n",
    "    def call(self, x, training, mask):\n",
    "        \"\"\"\n",
    "        Forward pass for the Encoder Layer\n",
    "\n",
    "        \"\"\"\n",
    "\n",
    "        self_mha_output = self.mha(x, x, x, mask)\n",
    "\n",
    "        skip_x_attention = self.layernorm1(x + self_mha_output)\n",
    "\n",
    "        ffn_output = self.ffn(skip_x_attention)\n",
    "\n",
    "        ffn_output = self.dropout_ffn(ffn_output, training=training)\n",
    "\n",
    "        encoder_layer_out = self.layernorm2(skip_x_attention + ffn_output)\n",
    "        \n",
    "        return encoder_layer_out"
   ]
  },
  {
   "cell_type": "markdown",
   "id": "2e36f13b",
   "metadata": {},
   "source": [
    "<a name='6-2'></a>\n",
    "### 6.2 - Tam Kodlayıcı\n",
    "\n",
    "<img src=\"images/encoder.png\" alt=\"Encoder\" width=\"250\"/>\n",
    "<center color='purple'><b>Transformer Kodlayıcı</b></center>\n",
    "\n",
    "Tam Dönüştürücü Kodlayıcı, girdinin gömülmesi ve hesaplanan konumsal kodlamaların dahil edilmesiyle oluşturulur. Daha sonra, kodlanmış gömüler bir Kodlayıcı katmanları yığınından geçirilir.\n",
    "\n",
    "1. Girdinin Gömme katmanından geçirilmesi.\n",
    "2. Gömme boyutunun karekökü ile çarpılarak gömmenin ölçeklendirilmesi. \n",
    "3. Pozisyon kodlamasının eklenmesi: self.pos_encoding `[:, :seq_len, :]` gömülmeye eklenir.\n",
    "4. Kodlanmış katıştırmayı bir dropout katmanından geçirilmesi\n",
    "5. Bırakma katmanının çıktısının bir for döngüsü kullanılarak kodlama katmanları yığınından geçirilmesi."
   ]
  },
  {
   "cell_type": "code",
   "execution_count": 14,
   "id": "d677d14e",
   "metadata": {
    "deletable": false,
    "editable": false,
    "tags": [
     "graded"
    ]
   },
   "outputs": [],
   "source": [
    "class Encoder(tf.keras.layers.Layer):\n",
    "    \"\"\"\n",
    "    The entire Encoder starts by passing the input to an embedding layer \n",
    "    and using positional encoding to then pass the output through a stack of\n",
    "    encoder Layers\n",
    "        \n",
    "    \"\"\"  \n",
    "    def __init__(self, num_layers, embedding_dim, num_heads, fully_connected_dim, input_vocab_size,\n",
    "               maximum_position_encoding, dropout_rate=0.1, layernorm_eps=1e-6):\n",
    "        super(Encoder, self).__init__()\n",
    "\n",
    "        self.embedding_dim = embedding_dim\n",
    "        self.num_layers = num_layers\n",
    "\n",
    "        self.embedding = tf.keras.layers.Embedding(input_vocab_size, self.embedding_dim)\n",
    "        self.pos_encoding = positional_encoding(maximum_position_encoding, \n",
    "                                                self.embedding_dim)\n",
    "\n",
    "\n",
    "        self.enc_layers = [EncoderLayer(embedding_dim=self.embedding_dim,\n",
    "                                        num_heads=num_heads,\n",
    "                                        fully_connected_dim=fully_connected_dim,\n",
    "                                        dropout_rate=dropout_rate,\n",
    "                                        layernorm_eps=layernorm_eps) \n",
    "                           for _ in range(self.num_layers)]\n",
    "\n",
    "        self.dropout = tf.keras.layers.Dropout(dropout_rate)\n",
    "        \n",
    "    def call(self, x, training, mask):\n",
    "        \"\"\"\n",
    "        Forward pass for the Encoder\n",
    "\n",
    "        \"\"\"\n",
    "        seq_len = tf.shape(x)[1]\n",
    "\n",
    "        x = self.embedding(x)\n",
    "\n",
    "        x *= tf.math.sqrt(tf.cast(self.embedding_dim, tf.float32))\n",
    "\n",
    "        x += self.pos_encoding[:, :seq_len, :]\n",
    "\n",
    "        x = self.dropout(x, training=training)\n",
    "\n",
    "        for i in range(self.num_layers):\n",
    "            x = self.enc_layers[i](x, training, mask)\n",
    "\n",
    "        return x "
   ]
  },
  {
   "cell_type": "markdown",
   "id": "9c7356fd",
   "metadata": {},
   "source": [
    "<a name='7'></a>\n",
    "## 7 - Dekoder / Kod Çözücü\n",
    "\n",
    "Kod Çözücü katmanı, Kodlayıcı tarafından üretilen K ve V matrislerini alır ve çıktıdan Q matrisi ile ikinci çok kafalı dikkat katmanını hesaplar\n",
    "\n",
    "<img src=\"images/decoder_layer.png\" alt=\"Decoder\" width=\"250\"/>\n",
    "<center color='purple'><b>Transformer Dekoder katmanı</b></center>\n",
    "\n",
    "### 7.1 - Dekoder Katmanı\n",
    "    \n",
    "`DecoderLayer()` metodunun `call()` metodu kullanılarak uygulanması\n",
    "    \n",
    "1. Blok 1, artık bağlantısı ve ileriye bakma maskesi olan çok kafalı bir dikkat katmanıdır. Kodlayıcı Katmanı'nda olduğu gibi, Dropout çok kafalı dikkat katmanı içinde tanımlanır.\n",
    "2. Blok 2, Kodlayıcının çıktısını dikkate alacaktır, bu nedenle çok kafalı dikkat katmanı kodlayıcıdan K ve V'yi ve Blok 1'den Q'yu alacaktır.\n",
    "3. Blok 3, dropout, normalleştirme katmanları ve residual connection sahip ileri beslemeli bir sinir ağıdır.\n",
    "\n",
    "Burada, iki çok kafalı dikkat katmanı, kodlayıcı katmanında ileri beslemeli bir sinir ağı ile eşleştirilmiştir. Eğitimi hızlandırmak için artık bağlantılar ve katman normalizasyonu kullanılır."
   ]
  },
  {
   "cell_type": "code",
   "execution_count": 20,
   "id": "d8d3a38d",
   "metadata": {
    "deletable": false,
    "tags": [
     "graded"
    ]
   },
   "outputs": [],
   "source": [
    "class DecoderLayer(tf.keras.layers.Layer):\n",
    "    \"\"\"\n",
    "    The decoder layer is composed by two multi-head attention blocks, \n",
    "    one that takes the new input and uses self-attention, and the other \n",
    "    one that combines it with the output of the encoder, followed by a\n",
    "    fully connected block. \n",
    "    \"\"\"\n",
    "    def __init__(self, embedding_dim, num_heads, fully_connected_dim, dropout_rate=0.1, layernorm_eps=1e-6):\n",
    "        super(DecoderLayer, self).__init__()\n",
    "\n",
    "        self.mha1 = tf.keras.layers.MultiHeadAttention(\n",
    "            num_heads=num_heads,\n",
    "            key_dim=embedding_dim,\n",
    "            dropout=dropout_rate\n",
    "        )\n",
    "\n",
    "        self.mha2 = tf.keras.layers.MultiHeadAttention(\n",
    "            num_heads=num_heads,\n",
    "            key_dim=embedding_dim,\n",
    "            dropout=dropout_rate\n",
    "        )\n",
    "\n",
    "        self.ffn = FullyConnected(\n",
    "            embedding_dim=embedding_dim,\n",
    "            fully_connected_dim=fully_connected_dim\n",
    "        )\n",
    "\n",
    "        self.layernorm1 = tf.keras.layers.LayerNormalization(epsilon=layernorm_eps)\n",
    "        self.layernorm2 = tf.keras.layers.LayerNormalization(epsilon=layernorm_eps)\n",
    "        self.layernorm3 = tf.keras.layers.LayerNormalization(epsilon=layernorm_eps)\n",
    "\n",
    "        self.dropout_ffn = tf.keras.layers.Dropout(dropout_rate)\n",
    "    def call(self, x, enc_output, training, look_ahead_mask, padding_mask):\n",
    "        \"\"\"\n",
    "        Forward pass for the Decoder Layer\n",
    "\n",
    "        \"\"\"\n",
    "        \n",
    "        mult_attn_out1, attn_weights_block1 = self.mha1(x, x, x, look_ahead_mask, return_attention_scores=True) \n",
    "        \n",
    "        Q1 = self.layernorm1(x + mult_attn_out1)\n",
    "\n",
    "        mult_attn_out2, attn_weights_block2 = self.mha2(Q1, enc_output, enc_output, padding_mask, return_attention_scores=True)\n",
    "\n",
    "        mult_attn_out2 = self.layernorm2(mult_attn_out2 + Q1)\n",
    "\n",
    "        ffn_output = self.ffn(mult_attn_out2)\n",
    "\n",
    "        ffn_output = self.dropout_ffn(ffn_output, training=training)\n",
    "\n",
    "        out3 = self.layernorm3(ffn_output + mult_attn_out2)\n",
    "\n",
    "        return out3, attn_weights_block1, attn_weights_block2"
   ]
  },
  {
   "cell_type": "markdown",
   "id": "66b82ccf",
   "metadata": {},
   "source": [
    "<a name='7-2'></a>\n",
    "### 7.2 - Tam Dekoder\n",
    "\n",
    "Çıktı gömülür ve konumsal kodlamalar eklenir. Kodlanmış gömüler daha sonra bir Kod Çözücü katmanı yığınına beslenir.\n",
    "\n",
    "<img src=\"images/decoder.png\" alt=\"Decoder\" width=\"250\"/>\n",
    "<center color='purple'><b>Transformer Dekoder</b></center>\n",
    "\n",
    "`Decoder()`, çıktıyı gömmek, konumsal kodlama eklemek ve birden fazla kod çözücü katmanı çalıştırmak için `call()` yöntemi kullanılarak uygulanır. Kod Çözücü bir Gömme katmanı, konumsal kodlama ve birkaç `DecoderLayers` ile başlatılır. `call()` yönteminde aşağıdaki adımlar gerçekleştirilir:\n",
    "\n",
    "1. Üretilen çıktı Gömme katmanından geçirilir.\n",
    "2. Gömme, gömme boyutunun karekökü ile çarpılarak ölçeklendirilir; gömme boyutu, karekök hesaplanmadan önce `tf.float32` veri türüne dönüştürülür.\n",
    "3. Gömmeye konum kodlaması eklenir: self.pos_encoding `[:, :seq_len, :]`.\n",
    "4. Kodlanmış gömme, eğitim parametresi tarafından ayarlanan model eğitim modu ile bir bırakma katmanından geçirilir.\n",
    "5. Bırakma(Dropout) katmanının çıktısı, bir for döngüsü kullanılarak Kod Çözme katmanları yığınından geçirilir."
   ]
  },
  {
   "cell_type": "code",
   "execution_count": 31,
   "id": "57dde3be",
   "metadata": {
    "deletable": false,
    "tags": [
     "graded"
    ]
   },
   "outputs": [],
   "source": [
    "class Decoder(tf.keras.layers.Layer):\n",
    "    \"\"\"\n",
    "    The entire Encoder starts by passing the target input to an embedding layer \n",
    "    and using positional encoding to then pass the output through a stack of\n",
    "    decoder Layers\n",
    "        \n",
    "    \"\"\" \n",
    "    def __init__(self, num_layers, embedding_dim, num_heads, fully_connected_dim, target_vocab_size,\n",
    "               maximum_position_encoding, dropout_rate=0.1, layernorm_eps=1e-6):\n",
    "        super(Decoder, self).__init__()\n",
    "\n",
    "        self.embedding_dim = embedding_dim\n",
    "        self.num_layers = num_layers\n",
    "\n",
    "        self.embedding = tf.keras.layers.Embedding(target_vocab_size, self.embedding_dim)\n",
    "        self.pos_encoding = positional_encoding(maximum_position_encoding, self.embedding_dim)\n",
    "\n",
    "        self.dec_layers = [DecoderLayer(embedding_dim=self.embedding_dim,\n",
    "                                        num_heads=num_heads,\n",
    "                                        fully_connected_dim=fully_connected_dim,\n",
    "                                        dropout_rate=dropout_rate,\n",
    "                                        layernorm_eps=layernorm_eps) \n",
    "                           for _ in range(self.num_layers)]\n",
    "        self.dropout = tf.keras.layers.Dropout(dropout_rate)\n",
    "    \n",
    "    def call(self, x, enc_output, training, \n",
    "           look_ahead_mask, padding_mask):\n",
    "        \"\"\"\n",
    "        Forward  pass for the Decoder\n",
    "        \n",
    "        \"\"\"\n",
    "\n",
    "        seq_len = tf.shape(x)[1]\n",
    "        attention_weights = {}\n",
    "        \n",
    "        x = self.embedding(x)\n",
    "\n",
    "        x *= tf.math.sqrt(tf.cast(self.embedding_dim, tf.float32))\n",
    "\n",
    "        x += self.pos_encoding[:, :seq_len, :]\n",
    "\n",
    "        x = self.dropout(x, training=training)\n",
    "\n",
    "        for i in range(self.num_layers):\n",
    "\n",
    "            x, block1, block2 = self.dec_layers[i](x, enc_output, training, look_ahead_mask, padding_mask)\n",
    "\n",
    "            attention_weights['decoder_layer{}_block1_self_att'.format(i+1)] = block1\n",
    "            attention_weights['decoder_layer{}_block2_decenc_att'.format(i+1)] = block2\n",
    "\n",
    "        return x, attention_weights"
   ]
  },
  {
   "cell_type": "markdown",
   "id": "848ba4b5",
   "metadata": {},
   "source": [
    "## 8 - Transformer\n",
    "\n",
    "<img src=\"images/transformer.png\" alt=\"Transformer\" width=\"550\"/>\n",
    "<caption><center><font color='purple'><b>Görsel: Örnek Transformer</font></center></caption>\n",
    "\n",
    "Transformer Mimarisi boyunca veri akışı aşağıdaki gibidir:\n",
    "\n",
    "* İlk olarak, girdi tekrarlanan Kodlayıcı katmanlarından oluşan bir Kodlayıcıdan geçirilir:\n",
    "    - Girdinin gömülmesi ve konumsal kodlaması gerçekleştirilir.\n",
    "    - Girişe çok kafalı dikkat (Multi-head Attention) uygulanır.\n",
    "    - Özellikler ileri beslemeli bir sinir ağı kullanılarak tespit edilir.\n",
    "* Ardından, tahmin edilen çıktı, kod çözücü katmanlarından oluşan bir Kod Çözücüden geçirilir:\n",
    "    - Çıktının gömülmesi ve konumsal kodlaması gerçekleştirilir.\n",
    "    - Üretilen çıktıya çok kafalı dikkat uygulanır.\n",
    "    - Çok kafalı dikkat, ilk çok kafalı dikkat katmanından gelen Q ve Kodlayıcıdan gelen K ve V kullanılarak gerçekleştirilir.\n",
    "    - Özellikler ileri beslemeli bir sinir ağı kullanılarak tespit edilir.\n",
    "* Son olarak, N. Kod Çözücü katmanından sonra, dizideki bir sonraki çıktı için tahminler oluşturmak üzere bir yoğun katman ve bir softmax uygulanır."
   ]
  },
  {
   "cell_type": "markdown",
   "id": "261d813f",
   "metadata": {},
   "source": [
    "`Transformer()`, `call()` metodu kullanılarak aşağıdaki gibi uygulanır:\n",
    "\n",
    "1. Giriş, uygun maske ile Kodlayıcıdan geçirilir.\n",
    "2. Kodlayıcı çıkışı ve hedef, uygun maske ile Kod Çözücüden geçirilir.\n",
    "3. Bir tahmin elde etmek için doğrusal bir dönüşüm ve bir softmax uygulanır."
   ]
  },
  {
   "cell_type": "code",
   "execution_count": 40,
   "id": "c9e6cb07",
   "metadata": {
    "deletable": false,
    "tags": [
     "graded"
    ]
   },
   "outputs": [],
   "source": [
    "class Transformer(tf.keras.Model):\n",
    "    \"\"\"\n",
    "    Complete transformer with an Encoder and a Decoder\n",
    "    \"\"\"\n",
    "    def __init__(self, num_layers, embedding_dim, num_heads, fully_connected_dim, input_vocab_size, \n",
    "               target_vocab_size, max_positional_encoding_input,\n",
    "               max_positional_encoding_target, dropout_rate=0.1, layernorm_eps=1e-6):\n",
    "        super(Transformer, self).__init__()\n",
    "\n",
    "        self.encoder = Encoder(num_layers=num_layers,\n",
    "                               embedding_dim=embedding_dim,\n",
    "                               num_heads=num_heads,\n",
    "                               fully_connected_dim=fully_connected_dim,\n",
    "                               input_vocab_size=input_vocab_size,\n",
    "                               maximum_position_encoding=max_positional_encoding_input,\n",
    "                               dropout_rate=dropout_rate,\n",
    "                               layernorm_eps=layernorm_eps)\n",
    "\n",
    "        self.decoder = Decoder(num_layers=num_layers, \n",
    "                               embedding_dim=embedding_dim,\n",
    "                               num_heads=num_heads,\n",
    "                               fully_connected_dim=fully_connected_dim,\n",
    "                               target_vocab_size=target_vocab_size, \n",
    "                               maximum_position_encoding=max_positional_encoding_target,\n",
    "                               dropout_rate=dropout_rate,\n",
    "                               layernorm_eps=layernorm_eps)\n",
    "\n",
    "        self.final_layer = tf.keras.layers.Dense(target_vocab_size, activation='softmax')\n",
    "    \n",
    "    def call(self, input_sentence, output_sentence, training, enc_padding_mask, look_ahead_mask, dec_padding_mask):\n",
    "        \"\"\"\n",
    "        Forward pass for the entire Transformer\n",
    "        \n",
    "        \"\"\"\n",
    "        enc_output = self.encoder(input_sentence, training, enc_padding_mask)\n",
    "\n",
    "        dec_output, attention_weights = self.decoder(output_sentence, enc_output, training, look_ahead_mask, dec_padding_mask)\n",
    "\n",
    "        final_output = self.final_layer(dec_output)\n",
    "\n",
    "        return final_output, attention_weights"
   ]
  },
  {
   "cell_type": "markdown",
   "id": "33e8a0c2",
   "metadata": {},
   "source": [
    "<a name='9'></a>\n",
    "## 9 - Modelin Başlatılması\n",
    "\n",
    "Model aşağıdaki parametrelerle başlatılır. Bu modellerin çok daha büyük olduğunu belirtmek gerekir, ancak bu ortama uyması ve sadece birkaç dakika içinde eğitime olanak sağlaması için burada daha küçük bir versiyon kullanılmıştır.\n",
    "\n",
    "Orijinal Transformer makalesinde açıklanan temel modelde `num_layers=6`, `embedding_dim=512` ve `fully_connected_dim=2048` kullanılmıştır."
   ]
  },
  {
   "cell_type": "code",
   "execution_count": 43,
   "id": "a5f79f64",
   "metadata": {
    "deletable": false,
    "editable": false,
    "tags": [
     "graded"
    ]
   },
   "outputs": [],
   "source": [
    "num_layers = 2\n",
    "embedding_dim = 128\n",
    "fully_connected_dim = 128\n",
    "num_heads = 2\n",
    "positional_encoding_length = 256\n",
    "\n",
    "transformer = Transformer(\n",
    "    num_layers, \n",
    "    embedding_dim, \n",
    "    num_heads, \n",
    "    fully_connected_dim,\n",
    "    vocab_size, \n",
    "    vocab_size, \n",
    "    positional_encoding_length, \n",
    "    positional_encoding_length,\n",
    ")"
   ]
  },
  {
   "cell_type": "markdown",
   "id": "71473c27",
   "metadata": {},
   "source": [
    "<a name='10'></a>\n",
    "## 10 - Modeli Eğitmek için Hazırlık\n",
    "\n",
    "Aşağıdaki hücrede tanımladığımız özel öğrenme oranı zamanlamasına sahip Adam optimizer kullanmaktadır."
   ]
  },
  {
   "cell_type": "code",
   "execution_count": 44,
   "id": "eb402089",
   "metadata": {
    "deletable": false,
    "editable": false,
    "tags": [
     "graded"
    ]
   },
   "outputs": [],
   "source": [
    "class CustomSchedule(tf.keras.optimizers.schedules.LearningRateSchedule):\n",
    "    def __init__(self, d_model, warmup_steps=4000):\n",
    "        super(CustomSchedule, self).__init__()\n",
    "        self.d_model = tf.cast(d_model, dtype=tf.float32)\n",
    "        self.warmup_steps = warmup_steps\n",
    "    \n",
    "    def __call__(self, step):\n",
    "        step = tf.cast(step, dtype=tf.float32)\n",
    "        arg1 = tf.math.rsqrt(step)\n",
    "        arg2 = step * (self.warmup_steps ** -1.5)\n",
    "\n",
    "        return tf.math.rsqrt(self.d_model) * tf.math.minimum(arg1, arg2)\n",
    "\n",
    "learning_rate = CustomSchedule(embedding_dim)\n",
    "\n",
    "optimizer = tf.keras.optimizers.Adam(0.0002, beta_1=0.9, beta_2=0.98, epsilon=1e-9)"
   ]
  },
  {
   "cell_type": "code",
   "execution_count": 45,
   "id": "35a17a59",
   "metadata": {
    "deletable": false,
    "editable": false,
    "tags": [
     "graded"
    ]
   },
   "outputs": [
    {
     "data": {
      "text/plain": [
       "Text(0.5, 0, 'Train Step')"
      ]
     },
     "execution_count": 45,
     "metadata": {},
     "output_type": "execute_result"
    },
    {
     "data": {
      "image/png": "[encoded data removed]",
      "text/plain": [
       "<Figure size 640x480 with 1 Axes>"
      ]
     },
     "metadata": {},
     "output_type": "display_data"
    }
   ],
   "source": [
    "plt.plot(learning_rate(tf.range(40000, dtype=tf.float32)))\n",
    "plt.ylabel('Learning Rate')\n",
    "plt.xlabel('Train Step')"
   ]
  },
  {
   "cell_type": "markdown",
   "id": "4cfba386",
   "metadata": {},
   "source": [
    "Kayıp, seyrek kategorik çapraz entropi (sparse categorical cross-entropy) kayıp fonksiyonu `(tf.keras.losses.SparseCategoricalCrossentropy)` kullanılarak ayarlanır.\n",
    "\n",
    "Son katman softmax aktivasyonuna sahip olduğu için Transformer ham logit çıktısı vermediğinden `from_logits` parametresi False olarak ayarlanmıştır. Ayrıca, dolgulu hedef dizileri hesaba katmak için kayıp hesaplanırken bir dolgu maskesi uygulanır."
   ]
  },
  {
   "cell_type": "code",
   "execution_count": 46,
   "id": "99fc8885",
   "metadata": {
    "deletable": false,
    "editable": false,
    "tags": [
     "graded"
    ]
   },
   "outputs": [],
   "source": [
    "loss_object = tf.keras.losses.SparseCategoricalCrossentropy(from_logits=False, reduction='none')\n",
    "\n",
    "def masked_loss(real, pred):\n",
    "    mask = tf.math.logical_not(tf.math.equal(real, 0))\n",
    "    loss_ = loss_object(real, pred)\n",
    "\n",
    "    mask = tf.cast(mask, dtype=loss_.dtype)\n",
    "    loss_ *= mask\n",
    "\n",
    "    return tf.reduce_sum(loss_)/tf.reduce_sum(mask)\n",
    "\n",
    "\n",
    "train_loss = tf.keras.metrics.Mean(name='train_loss')\n",
    "\n",
    "losses = []"
   ]
  },
  {
   "cell_type": "markdown",
   "id": "d992b7e5",
   "metadata": {},
   "source": [
    "Özel eğitim fonksiyonu, model.compile() ve model.fit() kullanımına alternatif olarak daha fazla esneklik sunmak için tanımlanmıştır."
   ]
  },
  {
   "cell_type": "code",
   "execution_count": 47,
   "id": "79092091",
   "metadata": {
    "deletable": false,
    "editable": false,
    "tags": [
     "graded"
    ]
   },
   "outputs": [],
   "source": [
    "@tf.function\n",
    "def train_step(model, inp, tar):\n",
    "    \"\"\"\n",
    "    One training step for the transformer\n",
    "\n",
    "    \"\"\"\n",
    "    tar_inp = tar[:, :-1]\n",
    "    tar_real = tar[:, 1:]\n",
    "\n",
    "    enc_padding_mask = create_padding_mask(inp)\n",
    "    look_ahead_mask = create_look_ahead_mask(tf.shape(tar_inp)[1])\n",
    "    dec_padding_mask = create_padding_mask(inp)\n",
    "\n",
    "    with tf.GradientTape() as tape:\n",
    "        predictions, _ = model(\n",
    "            inp,\n",
    "            tar_inp, \n",
    "            True, \n",
    "            enc_padding_mask, \n",
    "            look_ahead_mask, \n",
    "            dec_padding_mask\n",
    "        )\n",
    "        loss = masked_loss(tar_real, predictions)\n",
    "\n",
    "    gradients = tape.gradient(loss, transformer.trainable_variables)    \n",
    "    optimizer.apply_gradients(zip(gradients, transformer.trainable_variables))\n",
    "\n",
    "    train_loss(loss)"
   ]
  },
  {
   "cell_type": "markdown",
   "id": "79e05c54",
   "metadata": {},
   "source": [
    "<a name='11'></a>\n",
    "## 11 - Özetleme\n",
    "\n",
    "Bu bölümde, açgözlü kod çözme adı verilen basit bir yöntem kullanılarak belgelerin gerçek özetlerini üretmek için çıkarım uygulanır. Bu, her seferinde bir kelimenin tahmin edilmesini ve çıktıya eklenmesini içerir. İşlem bir [SOS] belirteci ile başlar ve model [EOS] belirtecini döndürene veya cümlenin maksimum uzunluğuna ulaşana kadar kelime kelime devam eder. Bu sınırın eklenmesi, iyi eğitilmemiş bir modelin [EOS] belirtecini üretmeden sonsuz cümle üretmesini önlemek için gereklidir."
   ]
  },
  {
   "cell_type": "code",
   "execution_count": 49,
   "id": "3e97ba77",
   "metadata": {
    "deletable": false,
    "editable": false,
    "tags": [
     "graded"
    ]
   },
   "outputs": [
    {
     "name": "stdout",
     "output_type": "stream",
     "text": [
      "Predicted token: [[14859]]\n",
      "Predicted word: masses\n"
     ]
    }
   ],
   "source": [
    "# Take a random sentence as an input\n",
    "input_document = tokenizer.texts_to_sequences([\"a random sentence\"])\n",
    "input_document = tf.keras.preprocessing.sequence.pad_sequences(input_document, maxlen=encoder_maxlen, padding='post', truncating='post')\n",
    "encoder_input = tf.expand_dims(input_document[0], 0)\n",
    "\n",
    "output = tf.expand_dims([tokenizer.word_index[\"[SOS]\"]], 0)\n",
    "\n",
    "predicted_token = next_word(transformer, encoder_input, output)\n",
    "print(f\"Predicted token: {predicted_token}\")\n",
    "\n",
    "predicted_word = tokenizer.sequences_to_texts(predicted_token.numpy())[0]\n",
    "print(f\"Predicted word: {predicted_word}\")"
   ]
  },
  {
   "cell_type": "code",
   "execution_count": 51,
   "id": "6177dc6a",
   "metadata": {
    "deletable": false,
    "editable": false,
    "tags": [
     "graded"
    ]
   },
   "outputs": [],
   "source": [
    "def summarize(model, input_document):\n",
    "    \"\"\"\n",
    "    A function for summarization using the transformer model\n",
    "\n",
    "    \"\"\"    \n",
    "    input_document = tokenizer.texts_to_sequences([input_document])\n",
    "    input_document = tf.keras.preprocessing.sequence.pad_sequences(input_document, maxlen=encoder_maxlen, padding='post', truncating='post')\n",
    "    encoder_input = tf.expand_dims(input_document[0], 0)\n",
    "    \n",
    "    output = tf.expand_dims([tokenizer.word_index[\"[SOS]\"]], 0)\n",
    "    \n",
    "    for i in range(decoder_maxlen):\n",
    "        predicted_id = next_word(model, encoder_input, output)\n",
    "        output = tf.concat([output, predicted_id], axis=-1)\n",
    "        \n",
    "        if predicted_id == tokenizer.word_index[\"[EOS]\"]:\n",
    "            break\n",
    "\n",
    "    return tokenizer.sequences_to_texts(output.numpy())[0]"
   ]
  },
  {
   "cell_type": "markdown",
   "id": "d3b15117",
   "metadata": {},
   "source": [
    "Burada özetleme yapabiliriz, ancak model henüz eğitilmediğinden, sadece anlamlı olmayan bir özet üretecektir"
   ]
  },
  {
   "cell_type": "code",
   "execution_count": 52,
   "id": "bae4d5f1",
   "metadata": {
    "deletable": false,
    "editable": false,
    "tags": [
     "graded"
    ]
   },
   "outputs": [
    {
     "name": "stdout",
     "output_type": "stream",
     "text": [
      "Training set example:\n",
      "[SOS] amanda: i baked  cookies. do you want some?  jerry: sure!  amanda: i'll bring you tomorrow :-) [EOS]\n",
      "\n",
      "Human written summary:\n",
      "[SOS] amanda baked cookies and will bring jerry some tomorrow. [EOS]\n",
      "\n",
      "Model written summary:\n"
     ]
    },
    {
     "data": {
      "text/plain": [
       "\"[SOS] masses kindergarten concept kindergarten concept bloomer wilingness sux sam kindergarten lisabeth kindergarten sawyer's sawyer's masses concept bloomer lisabeth bloomer wilingness 80000 bt hotsummer hoax hoax kieslowski wilingness 80000 dont't elis' 🐶❤️👍 cots saaaad evelynn inexperienced suji zubac forthcoming callum farmers extraordinary callum kindergarten worthy extraordinary readable 🐶❤️👍 thinkgn 🐶❤️👍 cots\""
      ]
     },
     "execution_count": 52,
     "metadata": {},
     "output_type": "execute_result"
    }
   ],
   "source": [
    "training_set_example = 0\n",
    "\n",
    "# Check a summary of a document from the training set\n",
    "print('Training set example:')\n",
    "print(document[training_set_example])\n",
    "print('\\nHuman written summary:')\n",
    "print(summary[training_set_example])\n",
    "print('\\nModel written summary:')\n",
    "summarize(transformer, document[training_set_example])"
   ]
  },
  {
   "cell_type": "markdown",
   "id": "90d6f836",
   "metadata": {},
   "source": [
    "<a name='12'></a>\n",
    "# 12 - Modelin eğitilmesi\n",
    "\n",
    "\n",
    "Model 20 epokluk bir döngü kullanılarak eğitilir. Her epoktan sonra, model test setinden bir cümle üzerinde özetleme gerçekleştirir ve modelin gelişimini gözlemlemek için sonuç yazdırılır."
   ]
  },
  {
   "cell_type": "code",
   "execution_count": 53,
   "id": "ebe2bf5f",
   "metadata": {
    "deletable": false,
    "editable": false,
    "scrolled": true,
    "tags": []
   },
   "outputs": [
    {
     "name": "stdout",
     "output_type": "stream",
     "text": [
      "Epoch 1, Loss 7.886631\n",
      "Time taken for one epoch: 68.23813128471375 sec\n",
      "Example summarization on the test set:\n",
      "  True summarization:\n",
      "    [SOS] hannah needs betty's number but amanda doesn't have it. she needs to contact larry. [EOS]\n",
      "  Predicted summarization:\n",
      "    [SOS] [EOS]\n",
      "\n",
      "Epoch 2, Loss 6.600131\n",
      "Time taken for one epoch: 24.56871461868286 sec\n",
      "Example summarization on the test set:\n",
      "  True summarization:\n",
      "    [SOS] hannah needs betty's number but amanda doesn't have it. she needs to contact larry. [EOS]\n",
      "  Predicted summarization:\n",
      "    [SOS] is going to the the the the the the the the the the the the the the the the the the the the the the the the the the the the the the the the the the the the the the the the the the the the the the the\n",
      "\n",
      "Epoch 3, Loss 6.029431\n",
      "Time taken for one epoch: 16.715919256210327 sec\n",
      "Example summarization on the test set:\n",
      "  True summarization:\n",
      "    [SOS] hannah needs betty's number but amanda doesn't have it. she needs to contact larry. [EOS]\n",
      "  Predicted summarization:\n",
      "    [SOS] tom is going to the new new new new new new new new new new new new new new new new new new new new new new new new new new new new new new new new new new new new new new new new new new new new new\n",
      "\n",
      "Epoch 4, Loss 5.683731\n",
      "Time taken for one epoch: 12.902153491973877 sec\n",
      "Example summarization on the test set:\n",
      "  True summarization:\n",
      "    [SOS] hannah needs betty's number but amanda doesn't have it. she needs to contact larry. [EOS]\n",
      "  Predicted summarization:\n",
      "    [SOS] tom is going to the new new new new new new new new new new new new new new new job [EOS]\n",
      "\n",
      "Epoch 5, Loss 5.475131\n",
      "Time taken for one epoch: 13.076921701431274 sec\n",
      "Example summarization on the test set:\n",
      "  True summarization:\n",
      "    [SOS] hannah needs betty's number but amanda doesn't have it. she needs to contact larry. [EOS]\n",
      "  Predicted summarization:\n",
      "    [SOS] the new new new new new new new job and she will be at the weekend [EOS]\n",
      "\n",
      "Epoch 6, Loss 5.322131\n",
      "Time taken for one epoch: 10.953633069992065 sec\n",
      "Example summarization on the test set:\n",
      "  True summarization:\n",
      "    [SOS] hannah needs betty's number but amanda doesn't have it. she needs to contact larry. [EOS]\n",
      "  Predicted summarization:\n",
      "    [SOS] tom is going to the new job [EOS]\n",
      "\n",
      "Epoch 7, Loss 5.194531\n",
      "Time taken for one epoch: 10.476561307907104 sec\n",
      "Example summarization on the test set:\n",
      "  True summarization:\n",
      "    [SOS] hannah needs betty's number but amanda doesn't have it. she needs to contact larry. [EOS]\n",
      "  Predicted summarization:\n",
      "    [SOS] tom is going to the party with her [EOS]\n",
      "\n",
      "Epoch 8, Loss 5.082831\n",
      "Time taken for one epoch: 11.346721172332764 sec\n",
      "Example summarization on the test set:\n",
      "  True summarization:\n",
      "    [SOS] hannah needs betty's number but amanda doesn't have it. she needs to contact larry. [EOS]\n",
      "  Predicted summarization:\n",
      "    [SOS] the new year's eve is going to the party [EOS]\n",
      "\n",
      "Epoch 9, Loss 4.976631\n",
      "Time taken for one epoch: 9.981986284255981 sec\n",
      "Example summarization on the test set:\n",
      "  True summarization:\n",
      "    [SOS] hannah needs betty's number but amanda doesn't have it. she needs to contact larry. [EOS]\n",
      "  Predicted summarization:\n",
      "    [SOS] the new year's eve is going to the party [EOS]\n",
      "\n",
      "Epoch 10, Loss 4.876431\n",
      "Time taken for one epoch: 9.303308963775635 sec\n",
      "Example summarization on the test set:\n",
      "  True summarization:\n",
      "    [SOS] hannah needs betty's number but amanda doesn't have it. she needs to contact larry. [EOS]\n",
      "  Predicted summarization:\n",
      "    [SOS] the car is going to the party with her [EOS]\n",
      "\n",
      "Epoch 11, Loss 4.776831\n",
      "Time taken for one epoch: 9.495164155960083 sec\n",
      "Example summarization on the test set:\n",
      "  True summarization:\n",
      "    [SOS] hannah needs betty's number but amanda doesn't have it. she needs to contact larry. [EOS]\n",
      "  Predicted summarization:\n",
      "    [SOS] mark has just arrived to the office today [EOS]\n",
      "\n",
      "Epoch 12, Loss 4.675731\n",
      "Time taken for one epoch: 9.498765707015991 sec\n",
      "Example summarization on the test set:\n",
      "  True summarization:\n",
      "    [SOS] hannah needs betty's number but amanda doesn't have it. she needs to contact larry. [EOS]\n",
      "  Predicted summarization:\n",
      "    [SOS] the car is going to the cinema with her [EOS]\n",
      "\n",
      "Epoch 13, Loss 4.573031\n",
      "Time taken for one epoch: 9.651426315307617 sec\n",
      "Example summarization on the test set:\n",
      "  True summarization:\n",
      "    [SOS] hannah needs betty's number but amanda doesn't have it. she needs to contact larry. [EOS]\n",
      "  Predicted summarization:\n",
      "    [SOS] ben will buy the red dress for the office [EOS]\n",
      "\n",
      "Epoch 14, Loss 4.473231\n",
      "Time taken for one epoch: 9.484719038009644 sec\n",
      "Example summarization on the test set:\n",
      "  True summarization:\n",
      "    [SOS] hannah needs betty's number but amanda doesn't have it. she needs to contact larry. [EOS]\n",
      "  Predicted summarization:\n",
      "    [SOS] alice has just arrived to the cinema with her [EOS]\n",
      "\n",
      "Epoch 15, Loss 4.371331\n",
      "Time taken for one epoch: 9.194050073623657 sec\n",
      "Example summarization on the test set:\n",
      "  True summarization:\n",
      "    [SOS] hannah needs betty's number but amanda doesn't have it. she needs to contact larry. [EOS]\n",
      "  Predicted summarization:\n",
      "    [SOS] hannah has just arrived to the cinema with her [EOS]\n",
      "\n",
      "Epoch 16, Loss 4.271031\n",
      "Time taken for one epoch: 12.83840537071228 sec\n",
      "Example summarization on the test set:\n",
      "  True summarization:\n",
      "    [SOS] hannah needs betty's number but amanda doesn't have it. she needs to contact larry. [EOS]\n",
      "  Predicted summarization:\n",
      "    [SOS] hannah has just arrived to the cinema with her [EOS]\n",
      "\n",
      "Epoch 17, Loss 4.168531\n",
      "Time taken for one epoch: 14.41805362701416 sec\n",
      "Example summarization on the test set:\n",
      "  True summarization:\n",
      "    [SOS] hannah needs betty's number but amanda doesn't have it. she needs to contact larry. [EOS]\n",
      "  Predicted summarization:\n",
      "    [SOS] alice has just arrived to the cinema with her [EOS]\n",
      "\n",
      "Epoch 18, Loss 4.073531\n",
      "Time taken for one epoch: 14.488349437713623 sec\n",
      "Example summarization on the test set:\n",
      "  True summarization:\n",
      "    [SOS] hannah needs betty's number but amanda doesn't have it. she needs to contact larry. [EOS]\n",
      "  Predicted summarization:\n",
      "    [SOS] hannah has just arrived to the store with amanda and hannah [EOS]\n",
      "\n",
      "Epoch 19, Loss 3.970631\n",
      "Time taken for one epoch: 15.21497368812561 sec\n",
      "Example summarization on the test set:\n",
      "  True summarization:\n",
      "    [SOS] hannah needs betty's number but amanda doesn't have it. she needs to contact larry. [EOS]\n",
      "  Predicted summarization:\n",
      "    [SOS] alice has just arrived and he will be at the cinema with amanda [EOS]\n",
      "\n",
      "Epoch 20, Loss 3.879831\n",
      "Time taken for one epoch: 13.718594789505005 sec\n",
      "Example summarization on the test set:\n",
      "  True summarization:\n",
      "    [SOS] hannah needs betty's number but amanda doesn't have it. she needs to contact larry. [EOS]\n",
      "  Predicted summarization:\n",
      "    [SOS] amanda is going to the store with amanda and hannah [EOS]\n",
      "\n"
     ]
    }
   ],
   "source": [
    "test_example = 0\n",
    "true_summary = summary_test[test_example]\n",
    "true_document = document_test[test_example]\n",
    "\n",
    "epochs = 20\n",
    "\n",
    "for epoch in range(epochs):\n",
    "    \n",
    "    start = time.time()\n",
    "    train_loss.reset_states()\n",
    "    number_of_batches=len(list(enumerate(dataset)))\n",
    "\n",
    "    for (batch, (inp, tar)) in enumerate(dataset):\n",
    "        print(f'Epoch {epoch+1}, Batch {batch+1}/{number_of_batches}', end='\\r')\n",
    "        train_step(transformer, inp, tar)\n",
    "    \n",
    "    print (f'Epoch {epoch+1}, Loss {train_loss.result():.4f}')\n",
    "    losses.append(train_loss.result())\n",
    "    \n",
    "    print (f'Time taken for one epoch: {time.time() - start} sec')\n",
    "    print('Example summarization on the test set:')\n",
    "    print('  True summarization:')\n",
    "    print(f'    {true_summary}')\n",
    "    print('  Predicted summarization:')\n",
    "    print(f'    {summarize(transformer, true_document)}\\n')"
   ]
  },
  {
   "cell_type": "markdown",
   "id": "35687ddc",
   "metadata": {},
   "source": [
    "Kayıp fonksiyonunun çizilmesi."
   ]
  },
  {
   "cell_type": "code",
   "execution_count": 54,
   "id": "eb3d5335",
   "metadata": {
    "deletable": false,
    "editable": false,
    "tags": [
     "graded"
    ]
   },
   "outputs": [
    {
     "data": {
      "text/plain": [
       "Text(0.5, 0, 'Epoch')"
      ]
     },
     "execution_count": 54,
     "metadata": {},
     "output_type": "execute_result"
    },
    {
     "data": {
      "image/png": "[encoded data removed]",
      "text/plain": [
       "<Figure size 640x480 with 1 Axes>"
      ]
     },
     "metadata": {},
     "output_type": "display_data"
    }
   ],
   "source": [
    "plt.plot(losses)\n",
    "plt.ylabel('Loss')\n",
    "plt.xlabel('Epoch')"
   ]
  },
  {
   "cell_type": "markdown",
   "id": "b6a53f16",
   "metadata": {},
   "source": [
    "# Özet\n",
    "İşte hem eğitim hem de test setlerinden cümlelerin bir özeti:"
   ]
  },
  {
   "cell_type": "code",
   "execution_count": 55,
   "id": "2493b755",
   "metadata": {
    "deletable": false,
    "editable": false,
    "tags": [
     "graded"
    ]
   },
   "outputs": [
    {
     "name": "stdout",
     "output_type": "stream",
     "text": [
      "Training set example:\n",
      "[SOS] amanda: i baked  cookies. do you want some?  jerry: sure!  amanda: i'll bring you tomorrow :-) [EOS]\n",
      "\n",
      "Human written summary:\n",
      "[SOS] amanda baked cookies and will bring jerry some tomorrow. [EOS]\n",
      "\n",
      "Model written summary:\n",
      "[SOS] amanda will bring some cookies [EOS]\n"
     ]
    }
   ],
   "source": [
    "training_set_example = 0\n",
    "\n",
    "print('Training set example:')\n",
    "print(document[training_set_example])\n",
    "print('\\nHuman written summary:')\n",
    "print(summary[training_set_example])\n",
    "print('\\nModel written summary:')\n",
    "print(summarize(transformer, document[training_set_example]))"
   ]
  },
  {
   "cell_type": "code",
   "execution_count": 56,
   "id": "15baaa47",
   "metadata": {
    "deletable": false,
    "editable": false,
    "tags": [
     "graded"
    ]
   },
   "outputs": [
    {
     "name": "stdout",
     "output_type": "stream",
     "text": [
      "Test set example:\n",
      "[SOS] will: hey babe, what do you want for dinner tonight?  emma:  gah, don't even worry about it tonight  will: what do you mean? everything ok?  emma: not really, but it's ok, don't worry about cooking though, i'm not hungry  will: well what time will you be home?  emma: soon, hopefully  will: you sure? maybe you want me to pick you up?  emma: no no it's alright. i'll be home soon, i'll tell you when i get home.   will: alright, love you.   emma: love you too.  [EOS]\n",
      "\n",
      "Human written summary:\n",
      "[SOS] emma will be home soon and she will let will know. [EOS]\n",
      "\n",
      "Model written summary:\n",
      "[SOS] emma will pick up with emma at home tonight [EOS]\n"
     ]
    }
   ],
   "source": [
    "test_set_example = 3\n",
    "\n",
    "print('Test set example:')\n",
    "print(document_test[test_set_example])\n",
    "print('\\nHuman written summary:')\n",
    "print(summary_test[test_set_example])\n",
    "print('\\nModel written summary:')\n",
    "print(summarize(transformer, document_test[test_set_example]))"
   ]
  },
  {
   "cell_type": "markdown",
   "id": "aebd7ef5",
   "metadata": {},
   "source": [
    "# Değerlendirme\n",
    "\n",
    "Modelin çıktısını incelersek, birkaç şey fark edebiliriz:\n",
    "\n",
    "- Eğitim sırasında, modelin çıktısı birkaç epoktan sonra bile gerçek çıktı ile yakından eşleşir. Bunun nedeni, eğitim verilerinin küçük ve modelin büyük olması, eğitim cümlelerini gerçekten anlamak yerine ezberlemesine neden olabilir, bu da aşırı uyum olarak bilinir.\n",
    "\n",
    "- Model eğitim verilerinde iyi performans göstermesine rağmen, test verilerindeki performansı o kadar iyi değildir. Eğitim verilerine aşırı uyum sağlar ancak yeni verilere genelleme yapmakta zorlanır. Bunun için sıklıkla belirtilen bir neden, eğitim verilerinin modelin karmaşıklığına kıyasla nispeten küçük olmasıdır. Ancak, başka faktörlerin de rol oynayabileceğini kabul etmek önemlidir.\n",
    "\n",
    "Test seti örneği 3 ve özeti göz önünde bulundurulduğunda, veriler bazen net olmayabilir ve bu da nasıl özetlendiğini etkileyebilir. Ayrıca, model eğitiminin etkinliği veri setinin kalitesine bağlıdır. Bu durumda, öğrenmenin sınırlı bir ortamda gerçekleşebileceğini göstermek için küçük bir veri kümesi kullanılır."
   ]
  },
  {
   "cell_type": "markdown",
   "id": "b15aef3b",
   "metadata": {},
   "source": [
    "# Kaynaklar\n",
    "\n",
    "B. Gliwa, I. Mochol, M. Biesek, A. Wawer. \"SAMS um Corpus: A Human-annotated Dialogue Dataset for Abstractive Summarization.\" In Proceedings of the 2nd Workshop on New Frontiers in Summarization, Hong Kong, China, Nov. 2019. Association for Computational Linguistics. [Online]. https://www.aclweb.org/anthology/D19-5409.\n",
    "\n",
    "Jay Alammar. \"The Illustrated Transformer.\" [Online]. https://jalammar.github.io/illustrated-transformer/\n",
    "\n",
    "J.-M. Torres-Moreno. \"Automatic Text Summarization.\" 2014.\n",
    "\n",
    "C. Kathri, G. Singh, N. Parikh. \"Abstractive and Extractive Text Summarization using Document Context Vector and Recurrent Neural Networks.\" 2018.\n",
    "\n",
    "Jonas Gehring, Michael Auli, David Grangier, Denis Yarats, Yann N. Dauphin. \"Convolutional Sequence to Sequence Learning.\" arXiv:1705.03122v2, 2017.\n",
    "\n",
    "Ashish Vaswani, Noam Shazeer, Niki Parmar, Jakob Uszkoreit, Llion Jones, Aidan N. Gomez, Lukasz Kaiser, Illia Polosukhin. \"Attention is All You Need.\" CoRR, 2017. [Online]. http://arxiv.org/abs/1706.03762"
   ]
  }
 ],
 "metadata": {
  "grader_version": "1",
  "kernelspec": {
   "display_name": "Python 3 (ipykernel)",
   "language": "python",
   "name": "python3"
  },
  "language_info": {
   "codemirror_mode": {
    "name": "ipython",
    "version": 3
   },
   "file_extension": ".py",
   "mimetype": "text/x-python",
   "name": "python",
   "nbconvert_exporter": "python",
   "pygments_lexer": "ipython3",
   "version": "3.11.7"
  }
 },
 "nbformat": 4,
 "nbformat_minor": 5
}
